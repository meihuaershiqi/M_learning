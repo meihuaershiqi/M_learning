{
 "cells": [
  {
   "cell_type": "markdown",
   "metadata": {},
   "source": [
    "![](./1.png)"
   ]
  },
  {
   "cell_type": "markdown",
   "metadata": {},
   "source": [
    "#### 1\n",
    "有监督学习：对具有标记的训练样本进行学习\n",
    "\n",
    "无监督学习：对未标记的样本进行训练学习"
   ]
  },
  {
   "cell_type": "markdown",
   "metadata": {},
   "source": [
    "#### 2\n",
    "感知机<br /> KNN<br /> Random Forest<br /> 贝叶斯分类器<br /> adaboost<br /> 马尔可夫模型<br />"
   ]
  },
  {
   "cell_type": "markdown",
   "metadata": {},
   "source": [
    "#### 3\n",
    "PR曲线是越靠近右上角模型效果越好。但比如说正样本很少，负样本超级多的情况下，模型的召回率就会很大，相对精确率就会很低，在PR曲线上就会越靠近横轴，所以在正负样本及其不均衡是可以很好地反映出模型真正的分类效果。"
   ]
  },
  {
   "cell_type": "markdown",
   "metadata": {},
   "source": [
    "![](./2.png)"
   ]
  },
  {
   "cell_type": "code",
   "execution_count": 1,
   "metadata": {},
   "outputs": [],
   "source": [
    "import math\n",
    "\n",
    "points = [(1,2,2),(0.4,5.2,1),(-2.8,-1.1,2),(3.2,1.4,1),(-1.3,3.2,1),(-3,3.1,2)]\n",
    "\n",
    "def getTag(pt) :\n",
    "    points.sort(key=lambda i: math.hypot(i[0] - pt[0], i[1] - pt[1]))\n",
    "    return points[0][2]\n"
   ]
  },
  {
   "cell_type": "code",
   "execution_count": 2,
   "metadata": {},
   "outputs": [
    {
     "name": "stdout",
     "output_type": "stream",
     "text": [
      "点(-2.6,6.6)的分类标签为：1\n"
     ]
    }
   ],
   "source": [
    "pt = (-2.6,6.6)\n",
    "tag = getTag(pt)\n",
    "print(f'点({pt[0]},{pt[1]})的分类标签为：{tag}')"
   ]
  },
  {
   "cell_type": "code",
   "execution_count": 3,
   "metadata": {},
   "outputs": [
    {
     "name": "stdout",
     "output_type": "stream",
     "text": [
      "点(1.4,1.6)的分类标签为：2\n"
     ]
    }
   ],
   "source": [
    "pt = (1.4,1.6)\n",
    "tag = getTag(pt)\n",
    "print(f'点({pt[0]},{pt[1]})的分类标签为：{tag}')"
   ]
  },
  {
   "cell_type": "code",
   "execution_count": 4,
   "metadata": {},
   "outputs": [
    {
     "name": "stdout",
     "output_type": "stream",
     "text": [
      "点(-2.5,1.2)的分类标签为：2\n"
     ]
    }
   ],
   "source": [
    "pt = (-2.5,1.2)\n",
    "tag = getTag(pt)\n",
    "print(f'点({pt[0]},{pt[1]})的分类标签为：{tag}')"
   ]
  },
  {
   "cell_type": "code",
   "execution_count": null,
   "metadata": {},
   "outputs": [],
   "source": []
  }
 ],
 "metadata": {
  "kernelspec": {
   "display_name": "Python 3",
   "language": "python",
   "name": "python3"
  },
  "language_info": {
   "codemirror_mode": {
    "name": "ipython",
    "version": 3
   },
   "file_extension": ".py",
   "mimetype": "text/x-python",
   "name": "python",
   "nbconvert_exporter": "python",
   "pygments_lexer": "ipython3",
   "version": "3.7.4"
  }
 },
 "nbformat": 4,
 "nbformat_minor": 4
}
